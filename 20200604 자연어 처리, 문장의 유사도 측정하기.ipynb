{
 "cells": [
  {
   "cell_type": "code",
   "execution_count": 105,
   "metadata": {},
   "outputs": [],
   "source": [
    "import folium\n",
    "import pandas as pd\n",
    "import numpy as np\n",
    "from tqdm import tqdm_notebook\n",
    "import json\n",
    "import googlemaps\n",
    "import warnings\n",
    "warnings.simplefilter(action = 'ignore', category=FutureWarning)\n",
    "import matplotlib.pyplot as plt\n",
    "%matplotlib inline\n",
    "import platform\n",
    "import seaborn as sns\n",
    "from matplotlib import font_manager, rc\n",
    "plt.rcParams['axes.unicode_minus'] = False\n",
    "\n",
    "if platform.system() == 'Darwin':\n",
    "    rc('font', family = 'AppleGothic')\n",
    "elif platform.system() == 'Windows':\n",
    "    path = \"c:/Windows/Fonts/malgun.ttf\"\n",
    "    font_name = font_manager.FontProperties(fname=path).get_name()\n",
    "    rc('font', family=font_name)\n",
    "else:\n",
    "    print('Unknown system. sorry~~~')\n",
    "\n",
    "import pandas_datareader.data as web\n",
    "from fbprophet import Prophet\n",
    "from datetime import datetime\n",
    "from pandas_datareader import data\n",
    "from konlpy.tag import Kkma\n",
    "from konlpy.tag import Hannanum"
   ]
  },
  {
   "cell_type": "markdown",
   "metadata": {},
   "source": [
    "# 많은 문장 혹은 문서 중, 유사한 문장을 찾아내는 법,\n",
    "## 어떤 문장을 벡터로 표현할 수 있다면, 벡터 간 거리를 구하는 방법으로 손쉽게 해결"
   ]
  },
  {
   "cell_type": "code",
   "execution_count": 106,
   "metadata": {},
   "outputs": [],
   "source": [
    "from sklearn.feature_extraction.text import CountVectorizer\n",
    "vectorizer = CountVectorizer(min_df = 1)"
   ]
  },
  {
   "cell_type": "markdown",
   "metadata": {},
   "source": [
    "# scikti_learn 에서 텍스트이 특징을 추츌하는 모듈에서, CountVectorizer 함수사용\n",
    "### 우선 단어 자체로 feature잡기"
   ]
  },
  {
   "cell_type": "code",
   "execution_count": 107,
   "metadata": {},
   "outputs": [],
   "source": [
    "contents = ['메리랑 놀러가고 싶지만 바쁜데 어떻하죠?',\n",
    "           '메리는 공원에서 산책하고 노는 것을 싫어해요',\n",
    "           '메리는 공원에서 노는 것도 싫어해요. 이상해요',\n",
    "           '먼 곳으로 여행을 떠나고 싶은데 너무 바빠서 그러질 못하고 있어요']"
   ]
  },
  {
   "cell_type": "code",
   "execution_count": 108,
   "metadata": {},
   "outputs": [
    {
     "data": {
      "text/plain": [
       "['것도',\n",
       " '것을',\n",
       " '곳으로',\n",
       " '공원에서',\n",
       " '그러질',\n",
       " '너무',\n",
       " '노는',\n",
       " '놀러가고',\n",
       " '떠나고',\n",
       " '메리는',\n",
       " '메리랑',\n",
       " '못하고',\n",
       " '바빠서',\n",
       " '바쁜데',\n",
       " '산책하고',\n",
       " '싫어해요',\n",
       " '싶은데',\n",
       " '싶지만',\n",
       " '어떻하죠',\n",
       " '여행을',\n",
       " '이상해요',\n",
       " '있어요']"
      ]
     },
     "execution_count": 108,
     "metadata": {},
     "output_type": "execute_result"
    }
   ],
   "source": [
    "X = vectorizer.fit_transform(contents)\n",
    "vectorizer.get_feature_names()"
   ]
  },
  {
   "cell_type": "code",
   "execution_count": 109,
   "metadata": {},
   "outputs": [
    {
     "data": {
      "text/plain": [
       "(4, 22)"
      ]
     },
     "execution_count": 109,
     "metadata": {},
     "output_type": "execute_result"
    }
   ],
   "source": [
    "num_samples, num_features = X.shape\n",
    "num_samples,num_features\n",
    "#4개의 문장, 22개의 단어로 구성됨"
   ]
  },
  {
   "cell_type": "code",
   "execution_count": 110,
   "metadata": {},
   "outputs": [
    {
     "data": {
      "text/plain": [
       "array([[0, 0, 1, 0],\n",
       "       [0, 1, 0, 0],\n",
       "       [0, 0, 0, 1],\n",
       "       [0, 1, 1, 0],\n",
       "       [0, 0, 0, 1],\n",
       "       [0, 0, 0, 1],\n",
       "       [0, 1, 1, 0],\n",
       "       [1, 0, 0, 0],\n",
       "       [0, 0, 0, 1],\n",
       "       [0, 1, 1, 0],\n",
       "       [1, 0, 0, 0],\n",
       "       [0, 0, 0, 1],\n",
       "       [0, 0, 0, 1],\n",
       "       [1, 0, 0, 0],\n",
       "       [0, 1, 0, 0],\n",
       "       [0, 1, 1, 0],\n",
       "       [0, 0, 0, 1],\n",
       "       [1, 0, 0, 0],\n",
       "       [1, 0, 0, 0],\n",
       "       [0, 0, 0, 1],\n",
       "       [0, 0, 1, 0],\n",
       "       [0, 0, 0, 1]], dtype=int64)"
      ]
     },
     "execution_count": 110,
     "metadata": {},
     "output_type": "execute_result"
    }
   ],
   "source": [
    "X.toarray().transpose()\n",
    "#벡터화된 X의 어레이 구성도 "
   ]
  },
  {
   "cell_type": "markdown",
   "metadata": {},
   "source": [
    "## 새로운 문장을 생성해, 기존 content의 문장중 벡터상 거리가 가장 가까운 문장 출력"
   ]
  },
  {
   "cell_type": "code",
   "execution_count": 132,
   "metadata": {},
   "outputs": [
    {
     "data": {
      "text/plain": [
       "array([[0, 0, 0, 0, 0, 0, 0, 0, 0, 0, 0, 0, 0, 0, 0, 0, 0, 0, 0, 0]],\n",
       "      dtype=int64)"
      ]
     },
     "execution_count": 132,
     "metadata": {},
     "output_type": "execute_result"
    }
   ],
   "source": [
    "new_post = ['메리랑 공원에서 산책하고 놀고 싶어요']\n",
    "new_post_vec = vectorizer.transform(new_post)\n",
    "new_post_vec.toarray()"
   ]
  },
  {
   "cell_type": "code",
   "execution_count": 133,
   "metadata": {},
   "outputs": [],
   "source": [
    "#norm : 벡터의 길이, 혹은 크기를 측정하는 함수\n",
    "import scipy as sp\n",
    "def dist_raw(v1, v2):\n",
    "    delta = v1-v2\n",
    "    return sp.linalg.norm(delta.toarray())"
   ]
  },
  {
   "cell_type": "code",
   "execution_count": 134,
   "metadata": {},
   "outputs": [
    {
     "name": "stdout",
     "output_type": "stream",
     "text": [
      "==post 0 with dist =2.45 : 메리랑 놀러가고 싶지만 바쁜데 어떻하죠?\n",
      "==post 1 with dist =2.45 : 메리는 공원에서 산책하고 노는 것을 싫어해요\n",
      "==post 2 with dist =2.24 : 메리는 공원에서 노는 것도 싫어해요. 이상해요\n",
      "==post 3 with dist =3.00 : 먼 곳으로 여행을 떠나고 싶은데 너무 바빠서 그러질 못하고 있어요\n",
      "Best post is 2, dist = 2.24 \n",
      "--> ['메리랑 공원에서 산책하고 놀고 싶어요']\n",
      "---> 메리는 공원에서 노는 것도 싫어해요. 이상해요\n"
     ]
    }
   ],
   "source": [
    "best_doc =None\n",
    "best_dist = 65535\n",
    "best_i = None\n",
    "\n",
    "#'메리랑 공원에서 산책하고 놀고 싶어요' 와 본 contents 간의 문장간의 벡터의 거리를 측정해준다.\n",
    "for i in range(0, num_samples):\n",
    "    #num_samples -> contents의문장의 갯수\n",
    "    post_vec = X.getrow(i)\n",
    "    d = dist_raw(post_vec, new_post_vec)\n",
    "    print('==post %d with dist =%.2f : %s'%(i, d, contents[i]))\n",
    "    \n",
    "    if d < best_dist:\n",
    "        best_dist = d\n",
    "        best_i = i\n",
    "        \n",
    "print('Best post is %i, dist = %.2f '%(best_i, best_dist))\n",
    "print('-->', new_post)\n",
    "print('--->', contents[best_i])"
   ]
  },
  {
   "cell_type": "code",
   "execution_count": 114,
   "metadata": {},
   "outputs": [
    {
     "name": "stdout",
     "output_type": "stream",
     "text": [
      "[[0 0 0 0 0 0 0 1 0 0 1 0 0 1 0 0 0 1 1 0 0 0]]\n",
      "[[0 1 0 1 0 0 1 0 0 1 0 0 0 0 1 1 0 0 0 0 0 0]]\n",
      "[[1 0 0 1 0 0 1 0 0 1 0 0 0 0 0 1 0 0 0 0 1 0]]\n",
      "[[0 0 1 0 1 1 0 0 1 0 0 1 1 0 0 0 1 0 0 1 0 1]]\n",
      "--------------------\n",
      "[[0 0 0 1 0 0 0 0 0 0 1 0 0 0 1 0 0 0 0 0 0 0]]\n"
     ]
    }
   ],
   "source": [
    "for i in range(0,len(contents)):\n",
    "    print(X.getrow(i).toarray())\n",
    "print('--------------------')\n",
    "print(new_post_vec.toarray())\n",
    "#어레이의 구성도 비교 결과, newpost의 문장은 contents 중 두번째 문장과 벡터화 어레이 구성도가 가장 비슷해 보인다. "
   ]
  },
  {
   "cell_type": "markdown",
   "metadata": {},
   "source": [
    "## 메리는, 메리랑 이 분리되기 때문에, 한글 문장에 대한 합리적 벡터화가 필요"
   ]
  },
  {
   "cell_type": "code",
   "execution_count": 154,
   "metadata": {},
   "outputs": [
    {
     "name": "stderr",
     "output_type": "stream",
     "text": [
      "C:\\Users\\A\\Anaconda3\\lib\\site-packages\\konlpy\\tag\\_okt.py:16: UserWarning: \"Twitter\" has changed to \"Okt\" since KoNLPy v0.4.5.\n",
      "  warn('\"Twitter\" has changed to \"Okt\" since KoNLPy v0.4.5.')\n"
     ]
    }
   ],
   "source": [
    "from konlpy.tag import Twitter\n",
    "t = Twitter()"
   ]
  },
  {
   "cell_type": "code",
   "execution_count": 155,
   "metadata": {},
   "outputs": [
    {
     "data": {
      "text/plain": [
       "[['메리', '랑', '놀러', '가고', '싶지만', '바쁜데', '어떻하죠', '?'],\n",
       " ['메리', '는', '공원', '에서', '산책', '하고', '노', '는', '것', '을', '싫어해요'],\n",
       " ['메리', '는', '공원', '에서', '노', '는', '것', '도', '싫어해요', '.', '이상해요'],\n",
       " ['먼',\n",
       "  '곳',\n",
       "  '으로',\n",
       "  '여행',\n",
       "  '을',\n",
       "  '떠나고',\n",
       "  '싶은데',\n",
       "  '너무',\n",
       "  '바빠서',\n",
       "  '그러질',\n",
       "  '못',\n",
       "  '하고',\n",
       "  '있어요']]"
      ]
     },
     "execution_count": 155,
     "metadata": {},
     "output_type": "execute_result"
    }
   ],
   "source": [
    "contents_token = [t.morphs(row) for row in contents]\n",
    "contents_token\n",
    "# 토크나이저를 통해 형태소 분석"
   ]
  },
  {
   "cell_type": "markdown",
   "metadata": {},
   "source": [
    "## 형태소 를 분석하고, 이것 자체를 하나의 문장으로 만들어 벡터화 함수에 쓰기 편하게 편집\n",
    "### - 기존 contents 문장 형태소 분석 및 벡터라이즈"
   ]
  },
  {
   "cell_type": "code",
   "execution_count": 168,
   "metadata": {},
   "outputs": [
    {
     "data": {
      "text/plain": [
       "[' 메리 랑 놀러 가고 싶지만 바쁜데 어떻하죠 ?',\n",
       " ' 메리 는 공원 에서 산책 하고 노 는 것 을 싫어해요',\n",
       " ' 메리 는 공원 에서 노 는 것 도 싫어해요 . 이상해요',\n",
       " ' 먼 곳 으로 여행 을 떠나고 싶은데 너무 바빠서 그러질 못 하고 있어요']"
      ]
     },
     "execution_count": 168,
     "metadata": {},
     "output_type": "execute_result"
    }
   ],
   "source": [
    "contents_for_vectorize = []\n",
    "\n",
    "for content in contents_token:\n",
    "    sentence = ''\n",
    "    for word in content:\n",
    "        sentence = sentence+ ' '+word\n",
    "    contents_for_vectorize.append(sentence)\n",
    "    \n",
    "contents_for_vectorize"
   ]
  },
  {
   "cell_type": "code",
   "execution_count": 175,
   "metadata": {},
   "outputs": [
    {
     "data": {
      "text/plain": [
       "(4, 20)"
      ]
     },
     "execution_count": 175,
     "metadata": {},
     "output_type": "execute_result"
    }
   ],
   "source": [
    "X1 = vectorizer.fit_transform(contents_for_vectorize)\n",
    "num_samples, num_features = X1.shape\n",
    "num_samples, num_features\n",
    "#벡터라이즈 한 결과, 문장은 4개이고 단어는 총 20 개로 파악이 된다. "
   ]
  },
  {
   "cell_type": "code",
   "execution_count": 170,
   "metadata": {
    "scrolled": true
   },
   "outputs": [
    {
     "data": {
      "text/plain": [
       "['가고',\n",
       " '공원',\n",
       " '그러질',\n",
       " '너무',\n",
       " '놀러',\n",
       " '떠나고',\n",
       " '메리',\n",
       " '바빠서',\n",
       " '바쁜데',\n",
       " '산책',\n",
       " '싫어해요',\n",
       " '싶은데',\n",
       " '싶지만',\n",
       " '어떻하죠',\n",
       " '에서',\n",
       " '여행',\n",
       " '으로',\n",
       " '이상해요',\n",
       " '있어요',\n",
       " '하고']"
      ]
     },
     "execution_count": 170,
     "metadata": {},
     "output_type": "execute_result"
    }
   ],
   "source": [
    "vectorizer.get_feature_names()"
   ]
  },
  {
   "cell_type": "code",
   "execution_count": 171,
   "metadata": {
    "scrolled": false
   },
   "outputs": [
    {
     "data": {
      "text/plain": [
       "array([[1, 0, 0, 0],\n",
       "       [0, 1, 1, 0],\n",
       "       [0, 0, 0, 1],\n",
       "       [0, 0, 0, 1],\n",
       "       [1, 0, 0, 0],\n",
       "       [0, 0, 0, 1],\n",
       "       [1, 1, 1, 0],\n",
       "       [0, 0, 0, 1],\n",
       "       [1, 0, 0, 0],\n",
       "       [0, 1, 0, 0],\n",
       "       [0, 1, 1, 0],\n",
       "       [0, 0, 0, 1],\n",
       "       [1, 0, 0, 0],\n",
       "       [1, 0, 0, 0],\n",
       "       [0, 1, 1, 0],\n",
       "       [0, 0, 0, 1],\n",
       "       [0, 0, 0, 1],\n",
       "       [0, 0, 1, 0],\n",
       "       [0, 0, 0, 1],\n",
       "       [0, 1, 0, 1]], dtype=int64)"
      ]
     },
     "execution_count": 171,
     "metadata": {},
     "output_type": "execute_result"
    }
   ],
   "source": [
    "X1.toarray().transpose()"
   ]
  },
  {
   "cell_type": "markdown",
   "metadata": {},
   "source": [
    "### - 거리 계산할 new_post 형태소 분석 후 벡터라이즈"
   ]
  },
  {
   "cell_type": "code",
   "execution_count": 183,
   "metadata": {},
   "outputs": [
    {
     "data": {
      "text/plain": [
       "[' 메리 랑 공원 에서 산책 하고 놀고 싶어요']"
      ]
     },
     "execution_count": 183,
     "metadata": {},
     "output_type": "execute_result"
    }
   ],
   "source": [
    "new_post = ['메리랑 공원에서 산책하고 놀고 싶어요']\n",
    "\n",
    "def post_token(new_post):\n",
    "    new_post_tokens = [t.morphs(row) for  row in new_post]\n",
    "    new_post_for_vectorize = []\n",
    "\n",
    "    for content in new_post_tokens:\n",
    "        sentence = ''\n",
    "        for word in content:\n",
    "            sentence = sentence+ ' '+word\n",
    "        new_post_for_vectorize.append(sentence)\n",
    "    return new_post_for_vectorize\n",
    "    \n",
    "new_post_for_vectorize = post_token(new_post)\n",
    "new_post_for_vectorize"
   ]
  },
  {
   "cell_type": "code",
   "execution_count": 184,
   "metadata": {},
   "outputs": [
    {
     "data": {
      "text/plain": [
       "array([[0, 1, 0, 0, 0, 0, 1, 0, 0, 1, 0, 0, 0, 0, 1, 0, 0, 0, 0, 1]],\n",
       "      dtype=int64)"
      ]
     },
     "execution_count": 184,
     "metadata": {},
     "output_type": "execute_result"
    }
   ],
   "source": [
    "new_post_vec = vectorizer.transform(new_post_for_vectorize)\n",
    "new_post_vec.toarray()"
   ]
  },
  {
   "cell_type": "markdown",
   "metadata": {},
   "source": [
    "## 각 벡터 간의 norm 을 나눠준 후, 거리를 구하는 함수"
   ]
  },
  {
   "cell_type": "code",
   "execution_count": 172,
   "metadata": {},
   "outputs": [],
   "source": [
    "#norm : 벡터의 길이, 혹은 크기를 측정하는 함수\n",
    "import scipy as sp\n",
    "def dist_norm(v1, v2):\n",
    "    v1_normalized = v1 / sp.linalg.norm(v1.toarray())\n",
    "    v2_normalized = v2 / sp.linalg.norm(v2.toarray())\n",
    "    \n",
    "    delta = v1_normalized - v2_normalized\n",
    "    \n",
    "    return sp.linalg.norm(delta.toarray())"
   ]
  },
  {
   "cell_type": "code",
   "execution_count": 173,
   "metadata": {},
   "outputs": [
    {
     "name": "stdout",
     "output_type": "stream",
     "text": [
      "==post 0 with dist =1.28 : 메리랑 놀러가고 싶지만 바쁜데 어떻하죠?\n",
      "==post 1 with dist =0.42 : 메리는 공원에서 산책하고 노는 것을 싫어해요\n",
      "==post 2 with dist =0.89 : 메리는 공원에서 노는 것도 싫어해요. 이상해요\n",
      "==post 3 with dist =1.30 : 먼 곳으로 여행을 떠나고 싶은데 너무 바빠서 그러질 못하고 있어요\n",
      "Best post is 1, dist = 0.42 \n",
      "--> ['메리랑 공원에서 산책하고 놀고 싶어요']\n",
      "---> 메리는 공원에서 산책하고 노는 것을 싫어해요\n"
     ]
    }
   ],
   "source": [
    "best_doc =None\n",
    "best_dist = 65535\n",
    "best_i = None\n",
    "\n",
    "#'메리랑 공원에서 산책하고 놀고 싶어요' 와 본 contents 간의 문장간의 벡터의 거리를 측정해준다.\n",
    "for i in range(0, num_samples):\n",
    "    #num_samples -> contents의문장의 갯수\n",
    "    post_vec = X1.getrow(i)\n",
    "    d = dist_norm(post_vec, new_post_vec)\n",
    "    print('==post %d with dist =%.2f : %s'%(i, d, contents[i]))\n",
    "    \n",
    "    if d < best_dist:\n",
    "        best_dist = d\n",
    "        best_i = i\n",
    "        \n",
    "print('Best post is %i, dist = %.2f '%(best_i, best_dist))\n",
    "print('-->', new_post)\n",
    "print('--->', contents[best_i])"
   ]
  },
  {
   "cell_type": "markdown",
   "metadata": {},
   "source": [
    "### - 거리에 대한 계산 결과는 달라졌지만, 가장 거리상 가까운 문장을 찾는 것에 대한 결과는 크게 다르지 않다."
   ]
  },
  {
   "cell_type": "code",
   "execution_count": 174,
   "metadata": {},
   "outputs": [
    {
     "name": "stdout",
     "output_type": "stream",
     "text": [
      "[[1 0 0 0 1 0 1 0 1 0 0 0 1 1 0 0 0 0 0 0]]\n",
      "[[0 1 0 0 0 0 1 0 0 1 1 0 0 0 1 0 0 0 0 1]]\n",
      "[[0 1 0 0 0 0 1 0 0 0 1 0 0 0 1 0 0 1 0 0]]\n",
      "[[0 0 1 1 0 1 0 1 0 0 0 1 0 0 0 1 1 0 1 1]]\n",
      "--------------------\n",
      "[[0 1 0 0 0 0 1 0 0 1 0 0 0 0 1 0 0 0 0 1]]\n"
     ]
    }
   ],
   "source": [
    "for i in range(0,len(contents)):\n",
    "    print(X.getrow(i).toarray())\n",
    "print('--------------------')\n",
    "print(new_post_vec.toarray())"
   ]
  },
  {
   "cell_type": "markdown",
   "metadata": {},
   "source": [
    "# 문장을 숫자로! 단어별로 가중치 부과!\n",
    "## - tf -> 어떤 단어가 문서 내에서 자주 등장할 수록 중요도가 높다고 판단\n",
    "## - idf -> 비교하는 모든 문서에 만약 같은 단어가 있다면, 핵심어휘일진 모르나 문서간 비교시 중요하게 판단되는 단어가 아니란 뜻으로 판단"
   ]
  },
  {
   "cell_type": "code",
   "execution_count": 180,
   "metadata": {},
   "outputs": [],
   "source": [
    "def tfidf(t,d,D):\n",
    "    tf = float(d.count(t)) / sum(d.count(w) for w in set(d))\n",
    "    idf = sp.log( float(len(D))/(len([doc for doc in D if t in doc])))\n",
    "    return tf, idf"
   ]
  },
  {
   "cell_type": "code",
   "execution_count": 187,
   "metadata": {},
   "outputs": [
    {
     "name": "stdout",
     "output_type": "stream",
     "text": [
      "(1.0, 0.0)\n",
      "(0.6666666666666666, 0.4054651081081644)\n",
      "(0.3333333333333333, 0.0)\n",
      "(0.3333333333333333, 0.4054651081081644)\n",
      "(0.3333333333333333, 1.0986122886681098)\n"
     ]
    }
   ],
   "source": [
    "a, abb, abc = ['a'], ['a','b','b'],['a','b','c']\n",
    "D = [a,abb,abc]\n",
    "print(tfidf('a', a, D))\n",
    "print(tfidf('b', abb, D))\n",
    "print(tfidf('a', abc, D))\n",
    "print(tfidf('b', abc, D))\n",
    "print(tfidf('c', abc, D))\n",
    "#모든 문장에 특정단어 a가 있기 때문에 a에 대한 가중치 tf는 1, idf는 0, 이 두값을 곱해서 벨류로 사용한다."
   ]
  },
  {
   "cell_type": "markdown",
   "metadata": {},
   "source": [
    "## scikit_learn의 TfidfVectorizer를 import 해서 사용하면 tfidf 값을 계산해준다.\n",
    "### 벡터화 시, tfidf 값을 계산하여 array를 구성하게 됨!"
   ]
  },
  {
   "cell_type": "code",
   "execution_count": 189,
   "metadata": {},
   "outputs": [],
   "source": [
    "from sklearn.feature_extraction.text import TfidfVectorizer\n",
    "vectorizer = TfidfVectorizer(min_df = 1, decode_error = 'ignore')"
   ]
  },
  {
   "cell_type": "markdown",
   "metadata": {},
   "source": [
    "## - 동일한 contents 사용!"
   ]
  },
  {
   "cell_type": "code",
   "execution_count": 205,
   "metadata": {},
   "outputs": [
    {
     "data": {
      "text/plain": [
       "(4, 20)"
      ]
     },
     "execution_count": 205,
     "metadata": {},
     "output_type": "execute_result"
    }
   ],
   "source": [
    "contents_for_vectorize = []\n",
    "contents_token = [t.morphs(row) for row in contents]\n",
    "for content in contents_token:\n",
    "    sentence = ''\n",
    "    for word in content:\n",
    "        sentence = sentence+ ' '+word\n",
    "    contents_for_vectorize.append(sentence)\n",
    "    \n",
    "X = vectorizer.fit_transform(contents_for_vectorize)\n",
    "num_samples, num_features = X.shape\n",
    "num_samples, num_features"
   ]
  },
  {
   "cell_type": "code",
   "execution_count": 191,
   "metadata": {},
   "outputs": [
    {
     "data": {
      "text/plain": [
       "['가고',\n",
       " '공원',\n",
       " '그러질',\n",
       " '너무',\n",
       " '놀러',\n",
       " '떠나고',\n",
       " '메리',\n",
       " '바빠서',\n",
       " '바쁜데',\n",
       " '산책',\n",
       " '싫어해요',\n",
       " '싶은데',\n",
       " '싶지만',\n",
       " '어떻하죠',\n",
       " '에서',\n",
       " '여행',\n",
       " '으로',\n",
       " '이상해요',\n",
       " '있어요',\n",
       " '하고']"
      ]
     },
     "execution_count": 191,
     "metadata": {},
     "output_type": "execute_result"
    }
   ],
   "source": [
    "vectorizer.get_feature_names()"
   ]
  },
  {
   "cell_type": "code",
   "execution_count": 203,
   "metadata": {},
   "outputs": [
    {
     "data": {
      "text/plain": [
       "array([[0.57457953, 0.4530051 , 0.        , 0.        , 0.57457953,\n",
       "        0.        , 0.36674667, 0.        , 0.        , 0.        ,\n",
       "        0.        , 0.        , 0.        , 0.        , 0.        ,\n",
       "        0.        , 0.        , 0.        , 0.        , 0.        ]])"
      ]
     },
     "execution_count": 203,
     "metadata": {},
     "output_type": "execute_result"
    }
   ],
   "source": [
    "new_post = ['근처 공원에 메리랑 놀러가고 싶네요']\n",
    "new_post_for_vectorize= post_token(new_post)\n",
    "new_post_for_vectorize\n",
    "#형태소 분석후, 리스트화하여\n",
    "\n",
    "new_post_vec = vectorizer.transform(new_post_for_vectorize)\n",
    "#벡터라이즈로 트랜스포밍 한다\n",
    "new_post_vec.toarray()"
   ]
  },
  {
   "cell_type": "code",
   "execution_count": 202,
   "metadata": {
    "scrolled": true
   },
   "outputs": [
    {
     "name": "stdout",
     "output_type": "stream",
     "text": [
      "==post 0 with dist =0.90 : 메리랑 놀러가고 싶지만 바쁜데 어떻하죠?\n",
      "==post 1 with dist =1.18 : 메리는 공원에서 산책하고 노는 것을 싫어해요\n",
      "==post 2 with dist =1.16 : 메리는 공원에서 노는 것도 싫어해요. 이상해요\n",
      "==post 3 with dist =1.41 : 먼 곳으로 여행을 떠나고 싶은데 너무 바빠서 그러질 못하고 있어요\n",
      "Best post is 0, dist = 0.90 \n",
      "--> ['근처 공원에 메리랑 놀러가고 싶네요']\n",
      "---> 메리랑 놀러가고 싶지만 바쁜데 어떻하죠?\n"
     ]
    }
   ],
   "source": [
    "best_doc =None\n",
    "best_dist = 65535\n",
    "best_i = None\n",
    "\n",
    "#'메리랑 공원에서 산책하고 놀고 싶어요' 와 본 contents 간의 문장간의 벡터의 거리를 측정해준다.\n",
    "for i in range(0, num_samples):\n",
    "    #num_samples -> contents의문장의 갯수\n",
    "    post_vec = X.getrow(i)\n",
    "    d = dist_norm(post_vec, new_post_vec)\n",
    "    print('==post %d with dist =%.2f : %s'%(i, d, contents[i]))\n",
    "    \n",
    "    if d < best_dist:\n",
    "        best_dist = d\n",
    "        best_i = i\n",
    "        \n",
    "print('Best post is %i, dist = %.2f '%(best_i, best_dist))\n",
    "print('-->', new_post)\n",
    "print('--->', contents[best_i])"
   ]
  },
  {
   "cell_type": "markdown",
   "metadata": {},
   "source": [
    "# 각 문장의 속성에 대해, tfidf 값이 측정되어있다."
   ]
  },
  {
   "cell_type": "code",
   "execution_count": 206,
   "metadata": {
    "scrolled": false
   },
   "outputs": [
    {
     "name": "stdout",
     "output_type": "stream",
     "text": [
      "[[0.43003652 0.         0.         0.         0.43003652 0.\n",
      "  0.27448674 0.         0.43003652 0.         0.         0.\n",
      "  0.43003652 0.43003652 0.         0.         0.         0.\n",
      "  0.         0.        ]]\n",
      "[[0.         0.39954636 0.         0.         0.         0.\n",
      "  0.32346721 0.         0.         0.5067739  0.39954636 0.\n",
      "  0.         0.         0.39954636 0.         0.         0.\n",
      "  0.         0.39954636]]\n",
      "[[0.         0.43584673 0.         0.         0.         0.\n",
      "  0.35285549 0.         0.         0.         0.43584673 0.\n",
      "  0.         0.         0.43584673 0.         0.         0.55281632\n",
      "  0.         0.        ]]\n",
      "[[0.         0.         0.34056989 0.34056989 0.         0.34056989\n",
      "  0.         0.34056989 0.         0.         0.         0.34056989\n",
      "  0.         0.         0.         0.34056989 0.34056989 0.\n",
      "  0.34056989 0.26850921]]\n",
      "--------------------\n",
      "[[0.57457953 0.4530051  0.         0.         0.57457953 0.\n",
      "  0.36674667 0.         0.         0.         0.         0.\n",
      "  0.         0.         0.         0.         0.         0.\n",
      "  0.         0.        ]]\n"
     ]
    }
   ],
   "source": [
    "for i in range(0,len(contents)):\n",
    "    print(X.getrow(i).toarray())\n",
    "print('--------------------')\n",
    "print(new_post_vec.toarray())"
   ]
  },
  {
   "cell_type": "markdown",
   "metadata": {},
   "source": [
    "# 검색 결과로 워드 크라우딩 만들어보기"
   ]
  },
  {
   "cell_type": "code",
   "execution_count": 325,
   "metadata": {},
   "outputs": [],
   "source": [
    "from bs4 import BeautifulSoup\n",
    "from urllib.request import urlopen\n",
    "import urllib\n",
    "import time \n",
    "\n",
    "tmp1 = 'https://search.naver.com/search.naver?where=kin&sm=tab_jum&'\n",
    "html = tmp1 + '&query={key_word}&kin_start={num}'\n",
    "response = urlopen(html.format(num = 2,key_word = urllib.parse.quote(\"남자+명품\")))\n",
    "soup = BeautifulSoup(response, \"html.parser\")\n",
    "tmp = soup.find_all('dl')\n"
   ]
  },
  {
   "cell_type": "code",
   "execution_count": 326,
   "metadata": {},
   "outputs": [
    {
     "data": {
      "application/vnd.jupyter.widget-view+json": {
       "model_id": "ca512b89f1c444fe969ad48cd65f8e95",
       "version_major": 2,
       "version_minor": 0
      },
      "text/plain": [
       "HBox(children=(IntProgress(value=0, max=1000), HTML(value='')))"
      ]
     },
     "metadata": {},
     "output_type": "display_data"
    },
    {
     "name": "stdout",
     "output_type": "stream",
     "text": [
      "\n"
     ]
    }
   ],
   "source": [
    "from tqdm import tqdm_notebook\n",
    "\n",
    "present_candi_text = []\n",
    "    \n",
    "tmp1 = 'https://search.naver.com/search.naver?where=kin&sm=tab_jum&'\n",
    "html = tmp1 + '&query={key_word}&kin_start={num}'\n",
    "for n in tqdm_notebook(range(1,10000, 10)):\n",
    "    response= urlopen(html.format(num = n,key_word = urllib.parse.quote(\"남자+명품\")))\n",
    "    soup = BeautifulSoup(response, \"html.parser\")\n",
    "    tmp = soup.find_all('dl')\n",
    "    \n",
    "    for line in tmp:\n",
    "        present_candi_text.append(line.text)\n",
    "    time.sleep(0.5)\n",
    "    \n"
   ]
  },
  {
   "cell_type": "code",
   "execution_count": 254,
   "metadata": {},
   "outputs": [
    {
     "name": "stderr",
     "output_type": "stream",
     "text": [
      "C:\\Users\\A\\Anaconda3\\lib\\site-packages\\konlpy\\tag\\_okt.py:16: UserWarning: \"Twitter\" has changed to \"Okt\" since KoNLPy v0.4.5.\n",
      "  warn('\"Twitter\" has changed to \"Okt\" since KoNLPy v0.4.5.')\n"
     ]
    }
   ],
   "source": [
    "import nltk\n",
    "from konlpy.tag import Twitter; t = Twitter()"
   ]
  },
  {
   "cell_type": "code",
   "execution_count": 255,
   "metadata": {},
   "outputs": [],
   "source": [
    "present_text =''\n",
    "for each_line in present_candi_text[:10000]:\n",
    "    present_text =present_text +each_line +'\\n'\n",
    "    "
   ]
  },
  {
   "cell_type": "code",
   "execution_count": 256,
   "metadata": {},
   "outputs": [
    {
     "data": {
      "text/plain": [
       "['기본',\n",
       " '검색',\n",
       " '입력',\n",
       " '한',\n",
       " '단어',\n",
       " '가',\n",
       " '하나',\n",
       " '이상',\n",
       " '포함',\n",
       " '된',\n",
       " '문서',\n",
       " '검색',\n",
       " '상세',\n",
       " '검색',\n",
       " '정확히',\n",
       " '일치',\n",
       " '하는',\n",
       " '단어',\n",
       " '/',\n",
       " '문장',\n",
       " '(\"',\n",
       " '\")',\n",
       " '반드시',\n",
       " '포함',\n",
       " '하는',\n",
       " '단어',\n",
       " '(+)',\n",
       " '제외',\n",
       " '하는',\n",
       " '단어',\n",
       " '(-)',\n",
       " '기',\n",
       " '본',\n",
       " '검색',\n",
       " '의',\n",
       " '결과',\n",
       " '범위',\n",
       " '를',\n",
       " '줄이고자',\n",
       " '할',\n",
       " '때',\n",
       " '사용',\n",
       " '합니다',\n",
       " '.',\n",
       " '여러',\n",
       " '개',\n",
       " '의',\n",
       " '단어',\n",
       " '를',\n",
       " '입력',\n",
       " '하실',\n",
       " '때',\n",
       " '는',\n",
       " '쉼표',\n",
       " '(,)',\n",
       " '로',\n",
       " '구분',\n",
       " '해서',\n",
       " '입력',\n",
       " '하세요',\n",
       " '.',\n",
       " '질문',\n",
       " '남자',\n",
       " '명품',\n",
       " '레플',\n",
       " '리카',\n",
       " '어떤',\n",
       " '가요',\n",
       " '?',\n",
       " '5일',\n",
       " '전',\n",
       " '남자',\n",
       " '명품',\n",
       " '레플',\n",
       " '리카',\n",
       " '어떤지',\n",
       " '궁금합니다',\n",
       " '.',\n",
       " '제',\n",
       " '가',\n",
       " '원래',\n",
       " '정품',\n",
       " '만',\n",
       " '입는데',\n",
       " '요즘',\n",
       " '에',\n",
       " '잘나온다고',\n",
       " '해서',\n",
       " '한번',\n",
       " '알아보고',\n",
       " '있습니다',\n",
       " '.',\n",
       " '남자',\n",
       " '명품',\n",
       " '레플',\n",
       " '리카',\n",
       " '요즘',\n",
       " '어떤',\n",
       " '가요',\n",
       " '?',\n",
       " '답변',\n",
       " '남자',\n",
       " '명품',\n",
       " '레플',\n",
       " '리카',\n",
       " '어떤',\n",
       " '가요',\n",
       " '?',\n",
       " '답변',\n",
       " '-',\n",
       " '남자',\n",
       " '명품',\n",
       " '레플',\n",
       " '리카',\n",
       " '정품',\n",
       " '이랑',\n",
       " '비교',\n",
       " '해보시고',\n",
       " '선택',\n",
       " '하세요',\n",
       " '!',\n",
       " '너무',\n",
       " '저렴한건',\n",
       " '안',\n",
       " '사느니만',\n",
       " '못',\n",
       " '하더라구요',\n",
       " '~',\n",
       " '닉네임',\n",
       " '요리',\n",
       " '전문가',\n",
       " '질문',\n",
       " '남자',\n",
       " '명품',\n",
       " '신발',\n",
       " '관리',\n",
       " '어떻게',\n",
       " '?',\n",
       " '2020.05',\n",
       " '.',\n",
       " '20',\n",
       " '.',\n",
       " '남자',\n",
       " '명품',\n",
       " '신발',\n",
       " '관리',\n",
       " '어떻게',\n",
       " '해야',\n",
       " '할까',\n",
       " '요',\n",
       " '?',\n",
       " '가죽',\n",
       " '소재',\n",
       " '인데',\n",
       " '너무',\n",
       " '지져',\n",
       " '분해서요',\n",
       " '.',\n",
       " '남자',\n",
       " '명품',\n",
       " '신발',\n",
       " '관리',\n",
       " '깔끔하게',\n",
       " '하는',\n",
       " '방법',\n",
       " '있으면',\n",
       " '좀',\n",
       " '알려주세요',\n",
       " '.',\n",
       " '남자',\n",
       " '명품',\n",
       " '신발',\n",
       " '이번',\n",
       " '에',\n",
       " '큰',\n",
       " '맘',\n",
       " '먹고',\n",
       " '...',\n",
       " '답변',\n",
       " '남자',\n",
       " '명품',\n",
       " '신발',\n",
       " '관리',\n",
       " '저',\n",
       " '도',\n",
       " '하고',\n",
       " '있어서',\n",
       " '한번',\n",
       " '달',\n",
       " '아',\n",
       " '보네요',\n",
       " '남자',\n",
       " '명품',\n",
       " '신발',\n",
       " '관리',\n",
       " '는',\n",
       " '가죽',\n",
       " '클리',\n",
       " '너',\n",
       " '로',\n",
       " '관리',\n",
       " '해주시는',\n",
       " '것',\n",
       " '이',\n",
       " '좋고',\n",
       " '가죽',\n",
       " '클리',\n",
       " '너',\n",
       " '중',\n",
       " '에서',\n",
       " '자극',\n",
       " '안',\n",
       " '가고',\n",
       " '말끔히',\n",
       " '지워지는',\n",
       " '...',\n",
       " '닉네임',\n",
       " '건강',\n",
       " '지도자',\n",
       " '질문',\n",
       " '남자',\n",
       " '명품',\n",
       " '지갑',\n",
       " '추천',\n",
       " '좀',\n",
       " '요',\n",
       " ',,,',\n",
       " '2020.02',\n",
       " '.',\n",
       " '13',\n",
       " '.',\n",
       " '구찌',\n",
       " '블룸',\n",
       " '이나',\n",
       " '지방시',\n",
       " '플',\n",
       " '로럴',\n",
       " '반',\n",
       " '지갑',\n",
       " '같은',\n",
       " '화려한',\n",
       " '지갑',\n",
       " '을',\n",
       " '좋아하는',\n",
       " '편입',\n",
       " '니',\n",
       " '다',\n",
       " '.',\n",
       " '70',\n",
       " '안쪽',\n",
       " '으로',\n",
       " '예쁜',\n",
       " '지갑',\n",
       " '추천',\n",
       " '좀',\n",
       " '해주세요',\n",
       " '..',\n",
       " '구찌',\n",
       " '애니멀',\n",
       " '라인',\n",
       " '이',\n",
       " '라던가',\n",
       " '지방시',\n",
       " '몽키',\n",
       " ',',\n",
       " '상어',\n",
       " '라인',\n",
       " '은',\n",
       " '...',\n",
       " '답변',\n",
       " '남자',\n",
       " '명품',\n",
       " '지갑',\n",
       " '은',\n",
       " '루이비통',\n",
       " '이',\n",
       " '가장',\n",
       " '이쁜',\n",
       " '듯',\n",
       " '합니다',\n",
       " '화려하신',\n",
       " '것',\n",
       " '을',\n",
       " '좋아하신다면',\n",
       " '잘',\n",
       " '어울리실듯',\n",
       " '합니다',\n",
       " '답변',\n",
       " '이',\n",
       " '도움',\n",
       " '이',\n",
       " '되었으면',\n",
       " '하고요',\n",
       " '좋은',\n",
       " '하루',\n",
       " '보내세요',\n",
       " '!',\n",
       " '닉네임',\n",
       " '쏘야',\n",
       " '볶음',\n",
       " '질문',\n",
       " '남자',\n",
       " '명품',\n",
       " '선물',\n",
       " '2019.12',\n",
       " '.',\n",
       " '27',\n",
       " '.',\n",
       " '남자',\n",
       " '명품',\n",
       " '선물',\n",
       " '추천',\n",
       " '좀용',\n",
       " '남자친구',\n",
       " '생일',\n",
       " '이라서',\n",
       " '생일',\n",
       " '선물',\n",
       " '크게',\n",
       " '챙겨줄라',\n",
       " '하는데',\n",
       " '벨트',\n",
       " ',',\n",
       " '키링',\n",
       " ',',\n",
       " '향수',\n",
       " '말구',\n",
       " '60~70',\n",
       " '선',\n",
       " '안',\n",
       " '에서',\n",
       " '명품',\n",
       " '선물',\n",
       " '뭐',\n",
       " '있을까',\n",
       " '용',\n",
       " 'ㅠㅠ',\n",
       " '20',\n",
       " '살이',\n",
       " '에',\n",
       " '용',\n",
       " '답변',\n",
       " '남자친구',\n",
       " '생일',\n",
       " '선물',\n",
       " '로',\n",
       " '벨트',\n",
       " ',',\n",
       " '키',\n",
       " '링',\n",
       " ',',\n",
       " '향수',\n",
       " '제외',\n",
       " '괜찮은',\n",
       " '제품',\n",
       " '은',\n",
       " '지갑',\n",
       " '이나',\n",
       " '...',\n",
       " 'com',\n",
       " '당신',\n",
       " '이',\n",
       " '찾는',\n",
       " '모든',\n",
       " '명품',\n",
       " ',',\n",
       " '필',\n",
       " '웨이',\n",
       " '에는',\n",
       " '있다',\n",
       " '!',\n",
       " '17년',\n",
       " '노하우',\n",
       " '로',\n",
       " '쉽고',\n",
       " '빠른',\n",
       " '명품',\n",
       " '거래',\n",
       " '...',\n",
       " '닉네임',\n",
       " 'feel',\n",
       " '****',\n",
       " '질문',\n",
       " '10',\n",
       " '대',\n",
       " '남자',\n",
       " '명품',\n",
       " '지갑',\n",
       " '추천',\n",
       " '2020.03',\n",
       " '.',\n",
       " '24',\n",
       " '.',\n",
       " '생일',\n",
       " '선물',\n",
       " '로',\n",
       " '살건데',\n",
       " '20~30만원',\n",
       " '정도하는',\n",
       " '명품',\n",
       " '지갑',\n",
       " '좀',\n",
       " '알려주세요',\n",
       " '.',\n",
       " '참고',\n",
       " '로',\n",
       " '19',\n",
       " '살이',\n",
       " '에요',\n",
       " '답변',\n",
       " 'ng',\n",
       " '윌리엄',\n",
       " '폴로',\n",
       " '지갑',\n",
       " '남성',\n",
       " '반',\n",
       " '지갑',\n",
       " '남자',\n",
       " '지갑',\n",
       " '명품',\n",
       " '지갑',\n",
       " '카드',\n",
       " '지갑',\n",
       " '171321',\n",
       " 'P',\n",
       " 'COUPANG',\n",
       " 'coupa',\n",
       " '.',\n",
       " 'ng',\n",
       " '몽블랑',\n",
       " '마',\n",
       " '이스터',\n",
       " '스튁',\n",
       " '8',\n",
       " 'cc',\n",
       " '반',\n",
       " '지갑',\n",
       " '118297',\n",
       " 'COUPANG',\n",
       " 'coupa',\n",
       " '.',\n",
       " 'ng',\n",
       " '선택',\n",
       " '에',\n",
       " '...',\n",
       " '닉네임',\n",
       " '전',\n",
       " '동',\n",
       " '풍차',\n",
       " '질문',\n",
       " '남자',\n",
       " '명품',\n",
       " '향수',\n",
       " '향',\n",
       " '좋은',\n",
       " '거',\n",
       " '알려주세요',\n",
       " '~!',\n",
       " '2020.03',\n",
       " '.',\n",
       " '30',\n",
       " '.',\n",
       " '안녕하세요',\n",
       " '마침',\n",
       " '향수',\n",
       " '가',\n",
       " '다',\n",
       " '떨어져가서',\n",
       " '남자',\n",
       " '명품',\n",
       " '향수',\n",
       " '좀',\n",
       " '추천',\n",
       " '받고',\n",
       " '싶어서',\n",
       " '글',\n",
       " '을',\n",
       " '올립니다',\n",
       " '.',\n",
       " '이성',\n",
       " '들',\n",
       " '에게',\n",
       " '인기',\n",
       " '가',\n",
       " '많은',\n",
       " '향수',\n",
       " '좀',\n",
       " '구매',\n",
       " '하고',\n",
       " '싶네요',\n",
       " '남자',\n",
       " '명품',\n",
       " '향수',\n",
       " '추천',\n",
       " '좀',\n",
       " '...',\n",
       " '답변',\n",
       " '남자',\n",
       " '명품',\n",
       " '향수',\n",
       " '알아보시는거라면',\n",
       " '올리브영',\n",
       " '같은',\n",
       " '곳',\n",
       " '에',\n",
       " '가셔서',\n",
       " '시',\n",
       " '향',\n",
       " '해보시고',\n",
       " '결정',\n",
       " '하시는걸',\n",
       " '추천',\n",
       " '드려요',\n",
       " '~',\n",
       " '닉네임',\n",
       " '건강',\n",
       " '대왕',\n",
       " '질문',\n",
       " '남자',\n",
       " '명품',\n",
       " '스니커즈',\n",
       " '2020.01',\n",
       " '.',\n",
       " '19',\n",
       " '.',\n",
       " '요즘',\n",
       " '살',\n",
       " '만',\n",
       " '한',\n",
       " '내',\n",
       " '구성',\n",
       " '괜찮은',\n",
       " '남자',\n",
       " '명품',\n",
       " '스니커즈',\n",
       " '추천',\n",
       " '해주세요',\n",
       " '~~',\n",
       " '가격',\n",
       " '선도',\n",
       " '다양하게',\n",
       " '부탁드립니당',\n",
       " '답변',\n",
       " '알렉산더',\n",
       " '맥퀸',\n",
       " '오버',\n",
       " '솔',\n",
       " '여성',\n",
       " '스니커즈',\n",
       " '553770',\n",
       " 'WHGP',\n",
       " '7',\n",
       " '.',\n",
       " '1,300',\n",
       " '개',\n",
       " '해외',\n",
       " '명품',\n",
       " '브랜드',\n",
       " '.',\n",
       " '매',\n",
       " '일',\n",
       " '매일',\n",
       " '달라지는',\n",
       " '핫딜',\n",
       " '특',\n",
       " '가',\n",
       " '.',\n",
       " '정품',\n",
       " '200%',\n",
       " '보장',\n",
       " '.',\n",
       " '편리한',\n",
       " '명품',\n",
       " '쇼핑',\n",
       " '머스트',\n",
       " '잇',\n",
       " 'liy',\n",
       " '.',\n",
       " 'kr',\n",
       " '닉네임',\n",
       " '토니모리',\n",
       " '질문',\n",
       " '남자',\n",
       " '..',\n",
       " '명품',\n",
       " '팔지',\n",
       " '추천',\n",
       " '좀',\n",
       " '요',\n",
       " '..',\n",
       " '예쁜',\n",
       " '걸',\n",
       " '로',\n",
       " '2020.03',\n",
       " '.',\n",
       " '19',\n",
       " '.',\n",
       " '남자',\n",
       " '가',\n",
       " '찰',\n",
       " '명품',\n",
       " '팔지',\n",
       " '..',\n",
       " '좀',\n",
       " '추천',\n",
       " '해주세여',\n",
       " '.',\n",
       " '답변',\n",
       " '필',\n",
       " '웨이',\n",
       " '는',\n",
       " '총',\n",
       " '130만',\n",
       " '개',\n",
       " '이상',\n",
       " '의',\n",
       " '명품',\n",
       " '을',\n",
       " '보유',\n",
       " '하고',\n",
       " '있으며',\n",
       " ',',\n",
       " '모조품',\n",
       " '이라고',\n",
       " '판정',\n",
       " '...',\n",
       " '밑',\n",
       " '에',\n",
       " '링크',\n",
       " '들어가셔서',\n",
       " '검색',\n",
       " '창',\n",
       " '에',\n",
       " '남자',\n",
       " '팔찌',\n",
       " '만',\n",
       " '치셔도',\n",
       " '여러가지',\n",
       " '가',\n",
       " '나옵니다',\n",
       " '.',\n",
       " '저',\n",
       " '는',\n",
       " '...',\n",
       " '닉네임',\n",
       " 'soss',\n",
       " '****',\n",
       " '질문',\n",
       " '남자',\n",
       " '명품',\n",
       " '지갑',\n",
       " '추전',\n",
       " '2020.04',\n",
       " '.',\n",
       " '29',\n",
       " '.',\n",
       " '20',\n",
       " '살',\n",
       " '유학생',\n",
       " '인데',\n",
       " '요',\n",
       " '명품',\n",
       " '반',\n",
       " '지갑',\n",
       " '을',\n",
       " '저',\n",
       " '한테',\n",
       " '사는',\n",
       " '선물',\n",
       " '이라고',\n",
       " '생각',\n",
       " '하고',\n",
       " '사고',\n",
       " '싶습니다',\n",
       " '.',\n",
       " '제',\n",
       " '가',\n",
       " '너무',\n",
       " '화려하고',\n",
       " '로고',\n",
       " '플레이',\n",
       " '가',\n",
       " '심한',\n",
       " '거',\n",
       " '는',\n",
       " '별로',\n",
       " '선호',\n",
       " '안',\n",
       " '하고',\n",
       " '덩',\n",
       " '치가',\n",
       " '크고',\n",
       " '키도',\n",
       " '많이',\n",
       " '...',\n",
       " '답변',\n",
       " '흔한',\n",
       " '브랜드',\n",
       " '소',\n",
       " '가죽',\n",
       " '지갑',\n",
       " '말고',\n",
       " '특별한',\n",
       " '의미',\n",
       " '가',\n",
       " '있는',\n",
       " '가죽',\n",
       " '지갑',\n",
       " '은',\n",
       " '어떠신',\n",
       " '가요',\n",
       " '?',\n",
       " '제',\n",
       " '가',\n",
       " '추천',\n",
       " '드리는',\n",
       " '제품',\n",
       " '은',\n",
       " '뱀',\n",
       " '가죽',\n",
       " '지갑',\n",
       " '입니다',\n",
       " '.',\n",
       " '특수',\n",
       " '피혁',\n",
       " '에',\n",
       " '속',\n",
       " '하는',\n",
       " '고가',\n",
       " '의',\n",
       " '...',\n",
       " '닉네임',\n",
       " 'jnj',\n",
       " '_****',\n",
       " '질문',\n",
       " '남자',\n",
       " '명품',\n",
       " '지갑',\n",
       " '(',\n",
       " '반',\n",
       " '지갑',\n",
       " ')',\n",
       " '추천',\n",
       " '2020.05',\n",
       " '.',\n",
       " '03',\n",
       " '.',\n",
       " '올해',\n",
       " '20',\n",
       " '살',\n",
       " '남자',\n",
       " '입니다',\n",
       " '.',\n",
       " '3',\n",
       " '달',\n",
       " '전',\n",
       " '보테가베네타',\n",
       " '반',\n",
       " '지갑',\n",
       " '을',\n",
       " '구매',\n",
       " '했는데',\n",
       " ',',\n",
       " '네이비',\n",
       " '색상',\n",
       " '이',\n",
       " '마음',\n",
       " '에',\n",
       " '안',\n",
       " '들어',\n",
       " '되',\n",
       " '팔고',\n",
       " '지금',\n",
       " '다시',\n",
       " '지갑',\n",
       " '을',\n",
       " '구입',\n",
       " '하려고',\n",
       " '하고',\n",
       " '있습니다',\n",
       " '.',\n",
       " '지나치게',\n",
       " '화려하지',\n",
       " '...',\n",
       " '답변',\n",
       " '마르지',\n",
       " '엘라',\n",
       " '스티치',\n",
       " '남성',\n",
       " '반',\n",
       " '지갑',\n",
       " '블랙',\n",
       " '국내',\n",
       " '배송',\n",
       " '.',\n",
       " '1,300',\n",
       " '개',\n",
       " '해외',\n",
       " '명품',\n",
       " '브랜드',\n",
       " '.',\n",
       " '매',\n",
       " '일',\n",
       " '매일',\n",
       " '달라지는',\n",
       " '핫딜',\n",
       " '특',\n",
       " '가',\n",
       " '.',\n",
       " '정품',\n",
       " '200%',\n",
       " '보장',\n",
       " '.',\n",
       " '편리한',\n",
       " '명품',\n",
       " '쇼핑',\n",
       " '머스트',\n",
       " '잇',\n",
       " 'oneany.shop',\n",
       " '닉네임',\n",
       " '2',\n",
       " 'bbeum',\n",
       " '기본',\n",
       " '검색',\n",
       " '입력',\n",
       " '한',\n",
       " '단어',\n",
       " '가',\n",
       " '하나',\n",
       " '이상',\n",
       " '포함',\n",
       " '된',\n",
       " '문서',\n",
       " '검색',\n",
       " '상세',\n",
       " '검색',\n",
       " '정확히',\n",
       " '일치',\n",
       " '하는',\n",
       " '단어',\n",
       " '/',\n",
       " '문장',\n",
       " '(\"',\n",
       " '\")',\n",
       " '반드시',\n",
       " '포함',\n",
       " '하는',\n",
       " '단어',\n",
       " '(+)',\n",
       " '제외',\n",
       " '하는',\n",
       " '단어',\n",
       " '(-)',\n",
       " '기',\n",
       " '본',\n",
       " '검색',\n",
       " '의',\n",
       " '결과',\n",
       " '범위',\n",
       " '를',\n",
       " '줄이고자',\n",
       " '할',\n",
       " '때',\n",
       " '사용',\n",
       " '합니다',\n",
       " '.',\n",
       " '여러',\n",
       " '개',\n",
       " '의',\n",
       " '단어',\n",
       " '를',\n",
       " '입력',\n",
       " '하실',\n",
       " '때',\n",
       " '는',\n",
       " '쉼표',\n",
       " '(,)',\n",
       " '로',\n",
       " '구분',\n",
       " '해서',\n",
       " '입력',\n",
       " '하세요',\n",
       " '.',\n",
       " '질문',\n",
       " '남자',\n",
       " '명품시계',\n",
       " '10~40만원',\n",
       " '대',\n",
       " '추천',\n",
       " '좀',\n",
       " '2019.08',\n",
       " '.',\n",
       " '28',\n",
       " '.',\n",
       " '남자',\n",
       " '명품시계',\n",
       " '10~40만원',\n",
       " '대',\n",
       " '추천',\n",
       " '좀',\n",
       " '해주세요',\n",
       " '답변',\n",
       " 'bz',\n",
       " '/',\n",
       " 'FXoAMC',\n",
       " '명품',\n",
       " '브랜드',\n",
       " '20',\n",
       " '대',\n",
       " '남자',\n",
       " '오토',\n",
       " '매틱',\n",
       " '가죽',\n",
       " '메탈',\n",
       " '패션',\n",
       " '손목',\n",
       " '시계',\n",
       " 'bitl',\n",
       " '.',\n",
       " 'bz',\n",
       " '메탈',\n",
       " '두',\n",
       " '있습니다',\n",
       " '마지막',\n",
       " '으로',\n",
       " '젤값',\n",
       " '나가고',\n",
       " '이뻐',\n",
       " '보이는시계',\n",
       " '입니다',\n",
       " 'https://bitl.bz',\n",
       " '...',\n",
       " '닉네임',\n",
       " 'jins',\n",
       " '****',\n",
       " '질문',\n",
       " '남자',\n",
       " '명품',\n",
       " '향수',\n",
       " '추천',\n",
       " '좀',\n",
       " '여',\n",
       " '2020.03',\n",
       " '.',\n",
       " '08',\n",
       " '.',\n",
       " '이제',\n",
       " '20',\n",
       " '살',\n",
       " '되는',\n",
       " '남자',\n",
       " '향수',\n",
       " '추천',\n",
       " '좀',\n",
       " '여',\n",
       " '명품',\n",
       " '으로',\n",
       " '남자',\n",
       " '한테',\n",
       " '호불호',\n",
       " '안',\n",
       " '갈리는',\n",
       " '향',\n",
       " '으로',\n",
       " '부탁',\n",
       " '해여',\n",
       " '베스트',\n",
       " '도',\n",
       " '알려주세요',\n",
       " '다',\n",
       " '들',\n",
       " '사는거',\n",
       " '답변',\n",
       " '안녕하세요',\n",
       " '남자',\n",
       " '향수',\n",
       " '추천',\n",
       " '드려',\n",
       " '볼게요',\n",
       " '[',\n",
       " '공식',\n",
       " '수입',\n",
       " ']',\n",
       " '페라리',\n",
       " '라이트',\n",
       " '에센스',\n",
       " '오드',\n",
       " '뚜',\n",
       " '왈렛',\n",
       " 'COUPANG',\n",
       " 'coupa',\n",
       " '.',\n",
       " 'ng',\n",
       " '베르사체',\n",
       " '맨',\n",
       " '오프',\n",
       " '레쉬',\n",
       " '오',\n",
       " '드',\n",
       " '뚜왈렛',\n",
       " ...]"
      ]
     },
     "execution_count": 256,
     "metadata": {},
     "output_type": "execute_result"
    }
   ],
   "source": [
    "token_ko = t.morphs(present_text)"
   ]
  },
  {
   "cell_type": "code",
   "execution_count": 261,
   "metadata": {},
   "outputs": [
    {
     "name": "stdout",
     "output_type": "stream",
     "text": [
      "623244\n",
      "8099\n"
     ]
    }
   ],
   "source": [
    "ko = nltk.Text(token_ko,name='남자 명품')\n",
    "print(len(ko.tokens))\n",
    "print(len(set(ko.tokens)))"
   ]
  },
  {
   "cell_type": "code",
   "execution_count": 285,
   "metadata": {},
   "outputs": [],
   "source": [
    "stop_words = ['...','..',',,','입니다','합니다','어디서''정도', '하는','하나','^^','****','??','입력','~~', '02','ㅎㅎ','질문','답변','닉네임']"
   ]
  },
  {
   "cell_type": "code",
   "execution_count": 286,
   "metadata": {},
   "outputs": [],
   "source": [
    "token_ko = [each_word for each_word in token_ko if len(each_word) != 1]\n",
    "token_ko = [each_word for each_word in token_ko if each_word not in stop_words]"
   ]
  },
  {
   "cell_type": "code",
   "execution_count": 291,
   "metadata": {
    "scrolled": true
   },
   "outputs": [
    {
     "name": "stdout",
     "output_type": "stream",
     "text": [
      "373038\n",
      "7444\n"
     ]
    },
    {
     "data": {
      "text/plain": [
       "[('명품', 22187),\n",
       " ('남자', 16995),\n",
       " ('추천', 9392),\n",
       " ('루이비통', 4465),\n",
       " ('단어', 4170),\n",
       " ('손가방', 3933),\n",
       " ('해주세요', 3780),\n",
       " ('가방', 3755),\n",
       " ('방향', 3674),\n",
       " ('브랜드', 3541),\n",
       " ('어디서', 3370),\n",
       " ('검색', 3360),\n",
       " ('가격', 3337),\n",
       " ('정도', 3312),\n",
       " ('지갑', 3279),\n",
       " ('구두', 3005),\n",
       " ('레플', 2364),\n",
       " ('리카', 2349),\n",
       " ('구찌', 2324),\n",
       " ('좋아하는', 2222)]"
      ]
     },
     "execution_count": 291,
     "metadata": {},
     "output_type": "execute_result"
    }
   ],
   "source": [
    "ko = nltk.Text(token_ko,name='남자 명품')\n",
    "print(len(ko.tokens))\n",
    "print(len(set(ko.tokens)))\n",
    "ko.vocab().most_common(20)"
   ]
  },
  {
   "cell_type": "code",
   "execution_count": 288,
   "metadata": {},
   "outputs": [
    {
     "data": {
      "image/png": "[encoded data removed]",
      "text/plain": [
       "<Figure size 1080x432 with 1 Axes>"
      ]
     },
     "metadata": {
      "needs_background": "light"
     },
     "output_type": "display_data"
    }
   ],
   "source": [
    "plt.figure(figsize=(15,6))\n",
    "ko.plot(50)\n",
    "plt.show()"
   ]
  },
  {
   "cell_type": "code",
   "execution_count": 289,
   "metadata": {},
   "outputs": [],
   "source": [
    "from wordcloud import WordCloud, STOPWORDS\n",
    "from PIL import Image"
   ]
  },
  {
   "cell_type": "code",
   "execution_count": 290,
   "metadata": {},
   "outputs": [
    {
     "data": {
      "image/png": "[encoded data removed]",
      "text/plain": [
       "<Figure size 720x720 with 1 Axes>"
      ]
     },
     "metadata": {
      "needs_background": "light"
     },
     "output_type": "display_data"
    }
   ],
   "source": [
    "data = ko.vocab().most_common(300)\n",
    "wordcloud = WordCloud(font_path='C:/Windows/Fonts/malgun.ttf',\n",
    "                     relative_scaling = 0.1,\n",
    "                     background_color = 'white').generate_from_frequencies(dict(data))\n",
    "plt.figure(figsize=(10,10))\n",
    "plt.imshow(wordcloud)\n",
    "plt.axis(\"off\")\n",
    "plt.show()"
   ]
  }
 ],
 "metadata": {
  "kernelspec": {
   "display_name": "Python 3",
   "language": "python",
   "name": "python3"
  },
  "language_info": {
   "codemirror_mode": {
    "name": "ipython",
    "version": 3
   },
   "file_extension": ".py",
   "mimetype": "text/x-python",
   "name": "python",
   "nbconvert_exporter": "python",
   "pygments_lexer": "ipython3",
   "version": "3.7.0"
  }
 },
 "nbformat": 4,
 "nbformat_minor": 2
}
