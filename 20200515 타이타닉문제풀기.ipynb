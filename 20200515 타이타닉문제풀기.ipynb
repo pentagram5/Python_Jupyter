{
 "cells": [
  {
   "cell_type": "code",
   "execution_count": 146,
   "metadata": {},
   "outputs": [
    {
     "data": {
      "text/html": [
       "<div>\n",
       "<style scoped>\n",
       "    .dataframe tbody tr th:only-of-type {\n",
       "        vertical-align: middle;\n",
       "    }\n",
       "\n",
       "    .dataframe tbody tr th {\n",
       "        vertical-align: top;\n",
       "    }\n",
       "\n",
       "    .dataframe thead th {\n",
       "        text-align: right;\n",
       "    }\n",
       "</style>\n",
       "<table border=\"1\" class=\"dataframe\">\n",
       "  <thead>\n",
       "    <tr style=\"text-align: right;\">\n",
       "      <th></th>\n",
       "      <th>pclass</th>\n",
       "      <th>survived</th>\n",
       "      <th>name</th>\n",
       "      <th>sex</th>\n",
       "      <th>age</th>\n",
       "      <th>sibsp</th>\n",
       "      <th>parch</th>\n",
       "      <th>ticket</th>\n",
       "      <th>fare</th>\n",
       "      <th>cabin</th>\n",
       "      <th>embarked</th>\n",
       "      <th>boat</th>\n",
       "      <th>body</th>\n",
       "      <th>home.dest</th>\n",
       "    </tr>\n",
       "  </thead>\n",
       "  <tbody>\n",
       "    <tr>\n",
       "      <th>0</th>\n",
       "      <td>1</td>\n",
       "      <td>1</td>\n",
       "      <td>Allen, Miss. Elisabeth Walton</td>\n",
       "      <td>female</td>\n",
       "      <td>29.0000</td>\n",
       "      <td>0</td>\n",
       "      <td>0</td>\n",
       "      <td>24160</td>\n",
       "      <td>211.3375</td>\n",
       "      <td>B5</td>\n",
       "      <td>S</td>\n",
       "      <td>2</td>\n",
       "      <td>NaN</td>\n",
       "      <td>St Louis, MO</td>\n",
       "    </tr>\n",
       "    <tr>\n",
       "      <th>1</th>\n",
       "      <td>1</td>\n",
       "      <td>1</td>\n",
       "      <td>Allison, Master. Hudson Trevor</td>\n",
       "      <td>male</td>\n",
       "      <td>0.9167</td>\n",
       "      <td>1</td>\n",
       "      <td>2</td>\n",
       "      <td>113781</td>\n",
       "      <td>151.5500</td>\n",
       "      <td>C22 C26</td>\n",
       "      <td>S</td>\n",
       "      <td>11</td>\n",
       "      <td>NaN</td>\n",
       "      <td>Montreal, PQ / Chesterville, ON</td>\n",
       "    </tr>\n",
       "    <tr>\n",
       "      <th>2</th>\n",
       "      <td>1</td>\n",
       "      <td>0</td>\n",
       "      <td>Allison, Miss. Helen Loraine</td>\n",
       "      <td>female</td>\n",
       "      <td>2.0000</td>\n",
       "      <td>1</td>\n",
       "      <td>2</td>\n",
       "      <td>113781</td>\n",
       "      <td>151.5500</td>\n",
       "      <td>C22 C26</td>\n",
       "      <td>S</td>\n",
       "      <td>NaN</td>\n",
       "      <td>NaN</td>\n",
       "      <td>Montreal, PQ / Chesterville, ON</td>\n",
       "    </tr>\n",
       "    <tr>\n",
       "      <th>3</th>\n",
       "      <td>1</td>\n",
       "      <td>0</td>\n",
       "      <td>Allison, Mr. Hudson Joshua Creighton</td>\n",
       "      <td>male</td>\n",
       "      <td>30.0000</td>\n",
       "      <td>1</td>\n",
       "      <td>2</td>\n",
       "      <td>113781</td>\n",
       "      <td>151.5500</td>\n",
       "      <td>C22 C26</td>\n",
       "      <td>S</td>\n",
       "      <td>NaN</td>\n",
       "      <td>135.0</td>\n",
       "      <td>Montreal, PQ / Chesterville, ON</td>\n",
       "    </tr>\n",
       "    <tr>\n",
       "      <th>4</th>\n",
       "      <td>1</td>\n",
       "      <td>0</td>\n",
       "      <td>Allison, Mrs. Hudson J C (Bessie Waldo Daniels)</td>\n",
       "      <td>female</td>\n",
       "      <td>25.0000</td>\n",
       "      <td>1</td>\n",
       "      <td>2</td>\n",
       "      <td>113781</td>\n",
       "      <td>151.5500</td>\n",
       "      <td>C22 C26</td>\n",
       "      <td>S</td>\n",
       "      <td>NaN</td>\n",
       "      <td>NaN</td>\n",
       "      <td>Montreal, PQ / Chesterville, ON</td>\n",
       "    </tr>\n",
       "  </tbody>\n",
       "</table>\n",
       "</div>"
      ],
      "text/plain": [
       "   pclass  survived                                             name     sex  \\\n",
       "0       1         1                    Allen, Miss. Elisabeth Walton  female   \n",
       "1       1         1                   Allison, Master. Hudson Trevor    male   \n",
       "2       1         0                     Allison, Miss. Helen Loraine  female   \n",
       "3       1         0             Allison, Mr. Hudson Joshua Creighton    male   \n",
       "4       1         0  Allison, Mrs. Hudson J C (Bessie Waldo Daniels)  female   \n",
       "\n",
       "       age  sibsp  parch  ticket      fare    cabin embarked boat   body  \\\n",
       "0  29.0000      0      0   24160  211.3375       B5        S    2    NaN   \n",
       "1   0.9167      1      2  113781  151.5500  C22 C26        S   11    NaN   \n",
       "2   2.0000      1      2  113781  151.5500  C22 C26        S  NaN    NaN   \n",
       "3  30.0000      1      2  113781  151.5500  C22 C26        S  NaN  135.0   \n",
       "4  25.0000      1      2  113781  151.5500  C22 C26        S  NaN    NaN   \n",
       "\n",
       "                         home.dest  \n",
       "0                     St Louis, MO  \n",
       "1  Montreal, PQ / Chesterville, ON  \n",
       "2  Montreal, PQ / Chesterville, ON  \n",
       "3  Montreal, PQ / Chesterville, ON  \n",
       "4  Montreal, PQ / Chesterville, ON  "
      ]
     },
     "execution_count": 146,
     "metadata": {},
     "output_type": "execute_result"
    }
   ],
   "source": [
    "import pandas as pd\n",
    "%matplotlib inline\n",
    "import matplotlib.pyplot as plt\n",
    "import seaborn as sns\n",
    "titanic = pd.read_excel('../data/titanic.xls')\n",
    "titanic.head(5)\n",
    "\n"
   ]
  },
  {
   "cell_type": "code",
   "execution_count": 119,
   "metadata": {},
   "outputs": [
    {
     "data": {
      "text/plain": [
       "<matplotlib.axes._subplots.AxesSubplot at 0x273aae2dc18>"
      ]
     },
     "execution_count": 119,
     "metadata": {},
     "output_type": "execute_result"
    },
    {
     "data": {
      "image/png": "[encoded data removed]",
      "text/plain": [
       "<Figure size 432x288 with 1 Axes>"
      ]
     },
     "metadata": {
      "needs_background": "light"
     },
     "output_type": "display_data"
    }
   ],
   "source": [
    "titanic['age'].hist()"
   ]
  },
  {
   "cell_type": "code",
   "execution_count": 153,
   "metadata": {},
   "outputs": [
    {
     "name": "stderr",
     "output_type": "stream",
     "text": [
      "C:\\Users\\A\\Anaconda3\\lib\\site-packages\\numpy\\lib\\histograms.py:746: RuntimeWarning: invalid value encountered in greater_equal\n",
      "  keep = (tmp_a >= first_edge)\n",
      "C:\\Users\\A\\Anaconda3\\lib\\site-packages\\numpy\\lib\\histograms.py:747: RuntimeWarning: invalid value encountered in less_equal\n",
      "  keep &= (tmp_a <= last_edge)\n",
      "C:\\Users\\A\\Anaconda3\\lib\\site-packages\\ipykernel_launcher.py:21: UserWarning: Boolean Series key will be reindexed to match DataFrame index.\n",
      "C:\\Users\\A\\Anaconda3\\lib\\site-packages\\ipykernel_launcher.py:22: UserWarning: Boolean Series key will be reindexed to match DataFrame index.\n",
      "C:\\Users\\A\\Anaconda3\\lib\\site-packages\\ipykernel_launcher.py:23: UserWarning: Boolean Series key will be reindexed to match DataFrame index.\n"
     ]
    },
    {
     "data": {
      "text/plain": [
       "Text(0.5,1,'Titanic Died passenger by Pclass')"
      ]
     },
     "execution_count": 153,
     "metadata": {},
     "output_type": "execute_result"
    },
    {
     "data": {
      "image/png": "[encoded data removed]",
      "text/plain": [
       "<Figure size 432x288 with 3 Axes>"
      ]
     },
     "metadata": {
      "needs_background": "light"
     },
     "output_type": "display_data"
    }
   ],
   "source": [
    "fig = plt.figure()\n",
    "axes1 = fig.add_subplot(2,2,1)\n",
    "axes2 = fig.add_subplot(2,2,2)\n",
    "axes3 = fig.add_subplot(2,2,3)\n",
    "fig.tight_layout()\n",
    "fig.suptitle('Titanic')\n",
    "\n",
    "\n",
    "axes1.hist(titanic['age'], range=(0,85), bins= 10)\n",
    "axes1.set_title('Age in Titanic ')#제목 설정\n",
    "axes1.set_xlabel('age')#x축 설정\n",
    "axes1.set_ylabel('Frequency', )\n",
    "\n",
    "axes2.boxplot(\n",
    "    [titanic[titanic['sex'] == 'female'].count(),\n",
    "    titanic[titanic['sex'] == 'male'].count()],\n",
    "    labels=['Female', 'Male'])\n",
    "axes2.set_title('Titanic sex')#제목 설정\n",
    "\n",
    "axes3.boxplot(\n",
    "    [titanic[titanic['pclass']==1][titanic['survived']==0].count(),\n",
    "    titanic[titanic['pclass']==2][titanic['survived']==0].count(),\n",
    "    titanic[titanic['pclass']==3][titanic['survived']==0].count()],\n",
    "    labels = ['1class', '2class', '3class'])\n",
    "\n",
    "axes3.set_title('Titanic Died passenger by Pclass')"
   ]
  },
  {
   "cell_type": "code",
   "execution_count": 128,
   "metadata": {},
   "outputs": [
    {
     "data": {
      "text/plain": [
       "{'whiskers': [<matplotlib.lines.Line2D at 0x273ac148438>,\n",
       "  <matplotlib.lines.Line2D at 0x273ac148860>,\n",
       "  <matplotlib.lines.Line2D at 0x273ac14fe48>,\n",
       "  <matplotlib.lines.Line2D at 0x273ac1585f8>],\n",
       " 'caps': [<matplotlib.lines.Line2D at 0x273ac148c88>,\n",
       "  <matplotlib.lines.Line2D at 0x273ac148d68>,\n",
       "  <matplotlib.lines.Line2D at 0x273ac158a20>,\n",
       "  <matplotlib.lines.Line2D at 0x273ac158e48>],\n",
       " 'boxes': [<matplotlib.lines.Line2D at 0x273ac13eef0>,\n",
       "  <matplotlib.lines.Line2D at 0x273ac14fd68>],\n",
       " 'medians': [<matplotlib.lines.Line2D at 0x273ac14f518>,\n",
       "  <matplotlib.lines.Line2D at 0x273ac158f28>],\n",
       " 'fliers': [<matplotlib.lines.Line2D at 0x273ac14f940>,\n",
       "  <matplotlib.lines.Line2D at 0x273ac161710>],\n",
       " 'means': []}"
      ]
     },
     "execution_count": 128,
     "metadata": {},
     "output_type": "execute_result"
    },
    {
     "data": {
      "image/png": "[encoded data removed]",
      "text/plain": [
       "<Figure size 432x288 with 1 Axes>"
      ]
     },
     "metadata": {
      "needs_background": "light"
     },
     "output_type": "display_data"
    }
   ],
   "source": [
    "boxplot = plt.figure()#틀생성\n",
    "boxplot.suptitle('Titanic sex')\n",
    "axes1= boxplot.add_subplot(1,1,1)#1행2열 첫번쩨 플롯 생성\n",
    "\n",
    "axes1.boxplot(\n",
    "    [titanic[titanic['sex'] == 'female'].count(),\n",
    "    titanic[titanic['sex'] == 'male'].count()],\n",
    "    labels=['Female', 'Male'])\n"
   ]
  },
  {
   "cell_type": "code",
   "execution_count": 144,
   "metadata": {},
   "outputs": [
    {
     "name": "stderr",
     "output_type": "stream",
     "text": [
      "C:\\Users\\A\\Anaconda3\\lib\\site-packages\\ipykernel_launcher.py:6: UserWarning: Boolean Series key will be reindexed to match DataFrame index.\n",
      "  \n",
      "C:\\Users\\A\\Anaconda3\\lib\\site-packages\\ipykernel_launcher.py:7: UserWarning: Boolean Series key will be reindexed to match DataFrame index.\n",
      "  import sys\n",
      "C:\\Users\\A\\Anaconda3\\lib\\site-packages\\ipykernel_launcher.py:8: UserWarning: Boolean Series key will be reindexed to match DataFrame index.\n",
      "  \n"
     ]
    },
    {
     "data": {
      "text/plain": [
       "{'whiskers': [<matplotlib.lines.Line2D at 0x273ac609d30>,\n",
       "  <matplotlib.lines.Line2D at 0x273ac6115c0>,\n",
       "  <matplotlib.lines.Line2D at 0x273ac618eb8>,\n",
       "  <matplotlib.lines.Line2D at 0x273ac618f98>,\n",
       "  <matplotlib.lines.Line2D at 0x273ac62ac50>,\n",
       "  <matplotlib.lines.Line2D at 0x273ac62ad30>],\n",
       " 'caps': [<matplotlib.lines.Line2D at 0x273ac6119b0>,\n",
       "  <matplotlib.lines.Line2D at 0x273ac611dd8>,\n",
       "  <matplotlib.lines.Line2D at 0x273ac621748>,\n",
       "  <matplotlib.lines.Line2D at 0x273ac621b70>,\n",
       "  <matplotlib.lines.Line2D at 0x273ac6334e0>,\n",
       "  <matplotlib.lines.Line2D at 0x273ac633908>],\n",
       " 'boxes': [<matplotlib.lines.Line2D at 0x273ac609be0>,\n",
       "  <matplotlib.lines.Line2D at 0x273ac618a90>,\n",
       "  <matplotlib.lines.Line2D at 0x273ac62a828>],\n",
       " 'medians': [<matplotlib.lines.Line2D at 0x273ac611eb8>,\n",
       "  <matplotlib.lines.Line2D at 0x273ac621f98>,\n",
       "  <matplotlib.lines.Line2D at 0x273ac633d30>],\n",
       " 'fliers': [<matplotlib.lines.Line2D at 0x273ac618668>,\n",
       "  <matplotlib.lines.Line2D at 0x273ac62a400>,\n",
       "  <matplotlib.lines.Line2D at 0x273ac633e10>],\n",
       " 'means': []}"
      ]
     },
     "execution_count": 144,
     "metadata": {},
     "output_type": "execute_result"
    },
    {
     "data": {
      "image/png": "[encoded data removed]",
      "text/plain": [
       "<Figure size 432x288 with 1 Axes>"
      ]
     },
     "metadata": {
      "needs_background": "light"
     },
     "output_type": "display_data"
    }
   ],
   "source": [
    "boxplot = plt.figure()#틀생성\n",
    "boxplot.suptitle('Titanic Died passenger by Pclass')\n",
    "axes1= boxplot.add_subplot(1,1,1)#1행2열 첫번쩨 플롯 생성\n",
    "\n",
    "axes1.boxplot(\n",
    "    [titanic[titanic['pclass']==1][titanic['survived']==0].count(),\n",
    "    titanic[titanic['pclass']==2][titanic['survived']==0].count(),\n",
    "    titanic[titanic['pclass']==3][titanic['survived']==0].count()],\n",
    "    labels = ['1class', '2class', '3class'])\n",
    "\n",
    "\n"
   ]
  }
 ],
 "metadata": {
  "kernelspec": {
   "display_name": "Python 3",
   "language": "python",
   "name": "python3"
  },
  "language_info": {
   "codemirror_mode": {
    "name": "ipython",
    "version": 3
   },
   "file_extension": ".py",
   "mimetype": "text/x-python",
   "name": "python",
   "nbconvert_exporter": "python",
   "pygments_lexer": "ipython3",
   "version": "3.7.0"
  }
 },
 "nbformat": 4,
 "nbformat_minor": 2
}
